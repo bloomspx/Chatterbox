{
 "cells": [
  {
   "cell_type": "code",
   "execution_count": 5,
   "metadata": {},
   "outputs": [],
   "source": [
    "from transformers import pipeline\n",
    "from transformers import AutoTokenizer, AutoModelForSequenceClassification\n",
    "import pandas as pd"
   ]
  },
  {
   "cell_type": "code",
   "execution_count": 9,
   "metadata": {},
   "outputs": [],
   "source": [
    "data = pd.read_csv(\"data/sample_results_2.csv\")\n",
    "df = pd.DataFrame(data)\n",
    "message = \"\\n\".join(df[df.columns[1]].to_list())"
   ]
  },
  {
   "cell_type": "code",
   "execution_count": 58,
   "metadata": {},
   "outputs": [
    {
     "name": "stdout",
     "output_type": "stream",
     "text": [
      "[{'label': 'POSITIVE', 'score': 0.9988032579421997}]\n",
      "[{'label': 'POSITIVE', 'score': 0.9986701011657715}]\n",
      "[{'label': 'POSITIVE', 'score': 0.9982106685638428}]\n",
      "[{'label': 'POSITIVE', 'score': 0.9987162351608276}]\n",
      "[{'label': 'POSITIVE', 'score': 0.9979497790336609}]\n",
      "[{'label': 'POSITIVE', 'score': 0.9945772886276245}]\n",
      "[{'label': 'POSITIVE', 'score': 0.998661994934082}]\n",
      "[{'label': 'POSITIVE', 'score': 0.994905948638916}]\n",
      "[{'label': 'POSITIVE', 'score': 0.9987144470214844}]\n",
      "[{'label': 'POSITIVE', 'score': 0.9976685643196106}]\n",
      "[{'label': 'POSITIVE', 'score': 0.9980890154838562}]\n",
      "[{'label': 'POSITIVE', 'score': 0.9989016056060791}]\n",
      "[{'label': 'POSITIVE', 'score': 0.9985679388046265}]\n",
      "[{'label': 'POSITIVE', 'score': 0.9982722997665405}]\n",
      "[{'label': 'POSITIVE', 'score': 0.9966121315956116}]\n",
      "[{'label': 'NEGATIVE', 'score': 0.9974483251571655}]\n",
      "[{'label': 'POSITIVE', 'score': 0.9974313378334045}]\n",
      "[{'label': 'POSITIVE', 'score': 0.9983223080635071}]\n",
      "[{'label': 'POSITIVE', 'score': 0.9962272644042969}]\n",
      "[{'label': 'POSITIVE', 'score': 0.9987175464630127}]\n",
      "[{'label': 'POSITIVE', 'score': 0.9978911280632019}]\n",
      "[{'label': 'POSITIVE', 'score': 0.9977961778640747}]\n",
      "[{'label': 'POSITIVE', 'score': 0.9988051652908325}]\n",
      "[{'label': 'POSITIVE', 'score': 0.9948257803916931}]\n",
      "[{'label': 'POSITIVE', 'score': 0.9988431930541992}]\n",
      "[{'label': 'POSITIVE', 'score': 0.9984301924705505}]\n",
      "[{'label': 'POSITIVE', 'score': 0.9986795783042908}]\n",
      "[{'label': 'POSITIVE', 'score': 0.998828113079071}]\n",
      "[{'label': 'POSITIVE', 'score': 0.9987088441848755}]\n"
     ]
    }
   ],
   "source": [
    "# perform sentinent analysis\n",
    "def get_prediction(texts, model):\n",
    "\n",
    "    new_df = pd.DataFrame(columns=[\"Content\",\"Label\", \"Score\"])\n",
    "\n",
    "    for index in range(len(texts)):\n",
    "        preds = model(texts[index])\n",
    "        print(preds)\n",
    "        pred_sentiment = preds[0][\"label\"]\n",
    "        pred_score = preds[0][\"score\"]\n",
    "\n",
    "        # write data into df\n",
    "        new_df.at[index, \"Label\"] = pred_sentiment\n",
    "        new_df.at[index, \"Score\"] = pred_score\n",
    "        # write text\n",
    "        new_df.at[index, \"Content\"] = \"\".join((texts[index]))\n",
    "\n",
    "    new_df.to_csv(\"data/results.csv\", index=False)\n",
    "    results = new_df\n",
    "    return results\n",
    "\n",
    "def predict(filename):\n",
    "    data = pd.read_csv('data/{}'.format(filename))\n",
    "    texts = data.values.tolist()\n",
    "    message = \"\"\n",
    "    for i in texts:\n",
    "        message += \"\".join(i)\n",
    "    results = get_prediction(texts, nlp)\n",
    "\n",
    "model = \"siebert/sentiment-roberta-large-english\"\n",
    "nlp = pipeline(\"sentiment-analysis\", model=model, tokenizer=model)\n",
    "predict(\"news.csv\")"
   ]
  },
  {
   "cell_type": "code",
   "execution_count": null,
   "metadata": {},
   "outputs": [],
   "source": [
    "# Obtain text summarization model\n",
    "\n",
    "def get_summary(text, model, filename):\n",
    "    result = summarizer(text, max_length=130, min_length=30, do_sample=False)\n",
    "    \n",
    "summarizer = pipeline(\"summarization\", model=\"facebook/bart-large-cnn\")"
   ]
  }
 ],
 "metadata": {
  "kernelspec": {
   "display_name": "Python 3.10.7 64-bit ('venv': venv)",
   "language": "python",
   "name": "python3"
  },
  "language_info": {
   "codemirror_mode": {
    "name": "ipython",
    "version": 3
   },
   "file_extension": ".py",
   "mimetype": "text/x-python",
   "name": "python",
   "nbconvert_exporter": "python",
   "pygments_lexer": "ipython3",
   "version": "3.10.7"
  },
  "orig_nbformat": 4,
  "vscode": {
   "interpreter": {
    "hash": "66f0ee19bbaf05b33d576940862416d07a1ba331cace9fd140a372edaed06c71"
   }
  }
 },
 "nbformat": 4,
 "nbformat_minor": 2
}
