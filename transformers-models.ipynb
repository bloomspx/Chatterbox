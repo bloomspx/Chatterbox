{
 "cells": [
  {
   "cell_type": "code",
   "execution_count": 42,
   "metadata": {},
   "outputs": [],
   "source": [
    "from transformers import pipeline\n",
    "from transformers import AutoTokenizer, AutoModelForSequenceClassification\n",
    "import csv\n",
    "import pandas as pd\n",
    "\n",
    "import urllib.request,sys,time\n",
    "from bs4 import BeautifulSoup\n",
    "import requests\n",
    "from matplotlib import pyplot as plt"
   ]
  },
  {
   "cell_type": "code",
   "execution_count": 31,
   "metadata": {},
   "outputs": [],
   "source": [
    "## CNA sample article urls\n",
    "# url = \"https://www.channelnewsasia.com/sustainability/scientists-discover-how-air-pollution-triggers-lung-cancer-2931111\"\n",
    "# url = \"https://www.channelnewsasia.com/asia/indonesia-subsidised-fuel-price-increase-micro-businesses-2929006\"\n",
    "url = \"https://www.channelnewsasia.com/singapore/nightclub-operator-club-posh-west-palace-entertainment-evade-gst-money-laundering-jailed-penalty-2935436\"\n",
    "# url = \"https://cnaluxury.channelnewsasia.com/people/chye-seng-huat-hardware-leon-foo-morning-coffee-machine-206531\""
   ]
  },
  {
   "cell_type": "code",
   "execution_count": 32,
   "metadata": {},
   "outputs": [],
   "source": [
    "## convert CNA url -> HTML -> CSV\n",
    "def extract_csv_from_html(url):\n",
    "    try:\n",
    "        page=requests.get(url) \n",
    "    except Exception as e:    \n",
    "        error_type, error_obj, error_info = sys.exc_info()      \n",
    "        print ('ERROR FOR LINK:',url)                     \n",
    "        print (error_type, 'Line:', error_info.tb_lineno)\n",
    "\n",
    "    time.sleep(2)\n",
    "    soup = BeautifulSoup(page.text, \"html.parser\")\n",
    "\n",
    "\n",
    "    ## extract article content\n",
    "    textContent = soup.find_all('div', attrs={'class':'text'})\n",
    "    paragraphs = []\n",
    "\n",
    "    for i in textContent:\n",
    "        para = i.find_all('p')\n",
    "        for j in para:\n",
    "            content = j.getText().strip()\n",
    "            paragraphs.append(content)\n",
    "\n",
    "    df = pd.DataFrame(paragraphs)\n",
    "    df.to_csv(\"backend/data/news.csv\", index=False)\n",
    "\n",
    "\n",
    "message = extract_csv_from_html(url)"
   ]
  },
  {
   "cell_type": "code",
   "execution_count": null,
   "metadata": {},
   "outputs": [],
   "source": [
    "## convert cna url -> html -> txt\n",
    "def extract_txt_from_html(url):\n",
    "    try:\n",
    "        page=requests.get(url) \n",
    "    except Exception as e:    \n",
    "        error_type, error_obj, error_info = sys.exc_info()      \n",
    "        print ('ERROR FOR LINK:',url)                     \n",
    "        print (error_type, 'Line:', error_info.tb_lineno)\n",
    "\n",
    "    time.sleep(2)\n",
    "    soup = BeautifulSoup(page.text, \"html.parser\")\n",
    "\n",
    "    ## extract article title\n",
    "    title = soup.find('h1',attrs={'class':'h1 h1--page-title'}).getText()\n",
    "\n",
    "    ## extract article content\n",
    "    textContent = soup.find_all('div', attrs={'class':'text'})\n",
    "    paragraphs = []\n",
    "\n",
    "    for i in textContent:\n",
    "        para = i.find_all('p')\n",
    "        for j in para:\n",
    "            content = j.getText().strip()\n",
    "            paragraphs.append(content)\n",
    "\n",
    "    single_para = \"\".join(paragraphs)\n",
    "    lines = \"\\n\".join(paragraphs)\n",
    "    multi_para = \"\\n\".join(paragraphs)\n",
    "\n",
    "    f = open(\"article.txt\", \"w+\")\n",
    "    f.write(\"Title: \")\n",
    "    f.write(title)\n",
    "    f.write(\"\\nArticle Text:\\n\\n\")\n",
    "    f.write(multi_para)\n",
    "    f.close()\n",
    "\n",
    "message = extract_txt_from_html(url)"
   ]
  },
  {
   "cell_type": "code",
   "execution_count": 4,
   "metadata": {},
   "outputs": [
    {
     "name": "stderr",
     "output_type": "stream",
     "text": [
      "Your max_length is set to 70, but you input_length is only 61. You might consider decreasing max_length manually, e.g. summarizer('...', max_length=30)\n"
     ]
    },
    {
     "name": "stdout",
     "output_type": "stream",
     "text": [
      "Air pollution has long been thought to be linked to a higher risk of lung cancer in people who have never smoked. Scientists say they have identified the mechanism through which air pollution triggers lung cancer. The research has sparked fresh calls for more urgent action to combat climate change.Previous research has shown that the DNA mutations can be present without causing cancer - and that most environmental carcinogens do not cause the mutations. But Swanton's study proposes a different model.When a cell is exposed to pollution it can trigger a \"wound-healing response\" that causes inflammation. And if that cell \"harbours a mutation, it will then form a cancer\"\"This opens a huge door, both for knowledge but also for new ways to prevent\" cancer from developing, says Delaloge. Swanton calls air pollution a \"hidden killer\", pointing to research estimating it is linked to the deaths of more than eight million people a year.\"Given that probably five times as many people are exposed to unhealthy levels of pollution than tobacco, you can see this is quite a major global problem,\" he added.\n"
     ]
    }
   ],
   "source": [
    "# extracts content from csv/txt in /data to an entire paragraph\n",
    "def extract_text(filename):\n",
    "    message = \"\"\n",
    "    if (filename[-4:]) == \".csv\":   # csv format\n",
    "        with open(\"backend/data/{}\".format(filename), 'r', encoding=\"utf8\") as f:\n",
    "            reader = csv.reader(f)\n",
    "            next(reader, None)  # skip headers\n",
    "            for row in reader:\n",
    "                # print(row)    \n",
    "                message += \"\".join(row)\n",
    "            # print(sentences)\n",
    "    elif (filename[-4:] == \".txt\"):     # txt format\n",
    "        with open(\"backend/data/{}\".format(filename), 'r',  encoding=\"utf8\") as f:\n",
    "            message = \"\".join(f.readlines())\n",
    "    return message\n",
    "\n",
    "# split text > max_length into a list of sentences\n",
    "def form_text_chunks(document, max_length):\n",
    "    chunks = []\n",
    "    sent = \"\"\n",
    "    length = 0\n",
    "    for sentence in document:\n",
    "        # print(sentence + \"\\n\")\n",
    "        sentence +=  \".\"\n",
    "        length += len(sentence)\n",
    "        if length < max_length:\n",
    "            sent += sentence\n",
    "        else:\n",
    "            # print(sent + \"\\n\\n\")\n",
    "            chunks.append(sent)\n",
    "            sent = \"\"\n",
    "            length = 0\n",
    "    if sent:\n",
    "        chunks.append(sent)\n",
    "    return chunks\n",
    "    \n",
    "# summarize text\n",
    "def summarize(summarizer, chunks):\n",
    "    result = \"\"\n",
    "    for i in chunks:\n",
    "        summarized = summarizer(i, max_length=70, min_length=30, do_sample=False)\n",
    "        # print(summarized[0][\"summary_text\"])\n",
    "        result += summarized[0][\"summary_text\"]\n",
    "    # print(result)\n",
    "    return result\n",
    "\n",
    "def generate_summary(summarizer, filename):\n",
    "    message = extract_text(filename)\n",
    "    sentences = message.split('.')\n",
    "    chunks = form_text_chunks(sentences, 1024)\n",
    "    # print(\"chunks:\", chunks)\n",
    "    result = summarize(summarizer, chunks)\n",
    "    # print(result + \"\\n\")\n",
    "    while (len(result) > 1200):\n",
    "        sentences = result.split('.')\n",
    "        chunks = form_text_chunks(sentences, 1024)\n",
    "        result = summarize(summarizer, chunks)\n",
    "    print(result)\n",
    "    return result\n",
    "    \n",
    "summarizer = pipeline(\"summarization\", model=\"facebook/bart-large-cnn\", tokenizer=\"facebook/bart-large-cnn\")\n",
    "text = generate_summary(summarizer, \"sample_news.csv\")\n",
    "# text = generate_summary(summarizer, \"summarized.txt\")\n"
   ]
  },
  {
   "cell_type": "code",
   "execution_count": 52,
   "metadata": {},
   "outputs": [
    {
     "ename": "FileNotFoundError",
     "evalue": "[Errno 2] No such file or directory: 'data/news.csv'",
     "output_type": "error",
     "traceback": [
      "\u001b[1;31m---------------------------------------------------------------------------\u001b[0m",
      "\u001b[1;31mFileNotFoundError\u001b[0m                         Traceback (most recent call last)",
      "Cell \u001b[1;32mIn [52], line 33\u001b[0m\n\u001b[0;32m     31\u001b[0m model \u001b[38;5;241m=\u001b[39m \u001b[38;5;124m\"\u001b[39m\u001b[38;5;124msiebert/sentiment-roberta-large-english\u001b[39m\u001b[38;5;124m\"\u001b[39m\n\u001b[0;32m     32\u001b[0m nlp \u001b[38;5;241m=\u001b[39m pipeline(\u001b[38;5;124m\"\u001b[39m\u001b[38;5;124msentiment-analysis\u001b[39m\u001b[38;5;124m\"\u001b[39m, model\u001b[38;5;241m=\u001b[39mmodel, tokenizer\u001b[38;5;241m=\u001b[39mmodel)\n\u001b[1;32m---> 33\u001b[0m results \u001b[38;5;241m=\u001b[39m \u001b[43mpredict\u001b[49m\u001b[43m(\u001b[49m\u001b[38;5;124;43m\"\u001b[39;49m\u001b[38;5;124;43mnews.csv\u001b[39;49m\u001b[38;5;124;43m\"\u001b[39;49m\u001b[43m)\u001b[49m\n",
      "Cell \u001b[1;32mIn [52], line 26\u001b[0m, in \u001b[0;36mpredict\u001b[1;34m(filename)\u001b[0m\n\u001b[0;32m     25\u001b[0m \u001b[38;5;28;01mdef\u001b[39;00m \u001b[38;5;21mpredict\u001b[39m(filename):\n\u001b[1;32m---> 26\u001b[0m     message \u001b[38;5;241m=\u001b[39m \u001b[43mextract_text\u001b[49m\u001b[43m(\u001b[49m\u001b[43mfilename\u001b[49m\u001b[43m)\u001b[49m\n\u001b[0;32m     27\u001b[0m     \u001b[38;5;66;03m# print(message)\u001b[39;00m\n\u001b[0;32m     28\u001b[0m     results \u001b[38;5;241m=\u001b[39m generate_sentiments(message, nlp)\n",
      "Cell \u001b[1;32mIn [4], line 5\u001b[0m, in \u001b[0;36mextract_text\u001b[1;34m(filename)\u001b[0m\n\u001b[0;32m      3\u001b[0m message \u001b[38;5;241m=\u001b[39m \u001b[38;5;124m\"\u001b[39m\u001b[38;5;124m\"\u001b[39m\n\u001b[0;32m      4\u001b[0m \u001b[38;5;28;01mif\u001b[39;00m (filename[\u001b[38;5;241m-\u001b[39m\u001b[38;5;241m4\u001b[39m:]) \u001b[38;5;241m==\u001b[39m \u001b[38;5;124m\"\u001b[39m\u001b[38;5;124m.csv\u001b[39m\u001b[38;5;124m\"\u001b[39m:   \u001b[38;5;66;03m# csv format\u001b[39;00m\n\u001b[1;32m----> 5\u001b[0m     \u001b[38;5;28;01mwith\u001b[39;00m \u001b[38;5;28;43mopen\u001b[39;49m\u001b[43m(\u001b[49m\u001b[38;5;124;43m\"\u001b[39;49m\u001b[38;5;124;43mdata/\u001b[39;49m\u001b[38;5;132;43;01m{}\u001b[39;49;00m\u001b[38;5;124;43m\"\u001b[39;49m\u001b[38;5;241;43m.\u001b[39;49m\u001b[43mformat\u001b[49m\u001b[43m(\u001b[49m\u001b[43mfilename\u001b[49m\u001b[43m)\u001b[49m\u001b[43m,\u001b[49m\u001b[43m \u001b[49m\u001b[38;5;124;43m'\u001b[39;49m\u001b[38;5;124;43mr\u001b[39;49m\u001b[38;5;124;43m'\u001b[39;49m\u001b[43m,\u001b[49m\u001b[43m \u001b[49m\u001b[43mencoding\u001b[49m\u001b[38;5;241;43m=\u001b[39;49m\u001b[38;5;124;43m\"\u001b[39;49m\u001b[38;5;124;43mutf8\u001b[39;49m\u001b[38;5;124;43m\"\u001b[39;49m\u001b[43m)\u001b[49m \u001b[38;5;28;01mas\u001b[39;00m f:\n\u001b[0;32m      6\u001b[0m         reader \u001b[38;5;241m=\u001b[39m csv\u001b[38;5;241m.\u001b[39mreader(f)\n\u001b[0;32m      7\u001b[0m         \u001b[38;5;28mnext\u001b[39m(reader, \u001b[38;5;28;01mNone\u001b[39;00m)  \u001b[38;5;66;03m# skip headers\u001b[39;00m\n",
      "\u001b[1;31mFileNotFoundError\u001b[0m: [Errno 2] No such file or directory: 'data/news.csv'"
     ]
    }
   ],
   "source": [
    "def generate_sentiments(message, model):\n",
    "    message = message.replace('\\n', ' ')\n",
    "    texts = message.split('.')\n",
    "    # print(texts, \"\\n\\n\")\n",
    "    chunks = form_text_chunks(texts, 512)\n",
    "    new_df = pd.DataFrame(columns=[\"Content\",\"Sentiment\", \"Score\"])\n",
    "\n",
    "    for index in range(len(chunks)):\n",
    "        preds = model(chunks[index])\n",
    "        # print(preds)\n",
    "        pred_sentiment = preds[0][\"label\"]\n",
    "        pred_score = preds[0][\"score\"]\n",
    "\n",
    "        # write predicted data into df\n",
    "        new_df.at[index, \"Sentiment\"] = pred_sentiment\n",
    "        new_df.at[index, \"Score\"] = pred_score\n",
    "        # write text\n",
    "        new_df.at[index, \"Content\"] = \"\".join((chunks[index]))\n",
    "\n",
    "    # new_df.to_csv(\"backend/data/results.csv\", index=False)\n",
    "    new_df.to_json(\"backend/data/results.json\")\n",
    "    results = new_df\n",
    "    return results\n",
    "\n",
    "def predict(filename):\n",
    "    message = extract_text(filename)\n",
    "    # print(message)\n",
    "    results = generate_sentiments(message, nlp)\n",
    "    return results\n",
    "\n",
    "model = \"siebert/sentiment-roberta-large-english\"\n",
    "nlp = pipeline(\"sentiment-analysis\", model=model, tokenizer=model)\n",
    "results = predict(\"news.csv\")"
   ]
  },
  {
   "cell_type": "code",
   "execution_count": 50,
   "metadata": {},
   "outputs": [
    {
     "name": "stdout",
     "output_type": "stream",
     "text": [
      "Sentiment\n",
      "NEGATIVE    4\n",
      "POSITIVE    1\n",
      "dtype: int64\n"
     ]
    },
    {
     "data": {
      "image/png": "[encoded data removed]",
      "text/plain": [
       "<Figure size 600x600 with 1 Axes>"
      ]
     },
     "metadata": {},
     "output_type": "display_data"
    }
   ],
   "source": [
    "def generate_wordcloud(results):    \n",
    "    # visualize the sentiments\n",
    "    sentiment_counts = results.groupby(['Sentiment']).size()\n",
    "    print(sentiment_counts)\n",
    "    fig = plt.figure(figsize=(6,6), dpi=100)\n",
    "    ax = plt.subplot(111)\n",
    "    sentiment_counts.plot.pie(ax=ax, autopct='%1.1f%%', startangle=270, fontsize=12, label=\"\")\n",
    "\n",
    "generate_wordcloud(results)"
   ]
  },
  {
   "cell_type": "code",
   "execution_count": null,
   "metadata": {},
   "outputs": [],
   "source": []
  }
 ],
 "metadata": {
  "kernelspec": {
   "display_name": "Python 3.10.7 64-bit ('venv': venv)",
   "language": "python",
   "name": "python3"
  },
  "language_info": {
   "codemirror_mode": {
    "name": "ipython",
    "version": 3
   },
   "file_extension": ".py",
   "mimetype": "text/x-python",
   "name": "python",
   "nbconvert_exporter": "python",
   "pygments_lexer": "ipython3",
   "version": "3.10.7"
  },
  "orig_nbformat": 4,
  "vscode": {
   "interpreter": {
    "hash": "66f0ee19bbaf05b33d576940862416d07a1ba331cace9fd140a372edaed06c71"
   }
  }
 },
 "nbformat": 4,
 "nbformat_minor": 2
}
