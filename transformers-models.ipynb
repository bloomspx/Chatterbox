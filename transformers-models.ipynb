{
 "cells": [
  {
   "cell_type": "code",
   "execution_count": 5,
   "metadata": {},
   "outputs": [],
   "source": [
    "from transformers import pipeline\n",
    "from transformers import AutoTokenizer, AutoModelForSequenceClassification\n",
    "import pandas as pd"
   ]
  },
  {
   "cell_type": "code",
   "execution_count": 9,
   "metadata": {},
   "outputs": [],
   "source": [
    "data = pd.read_csv(\"data/sample_results_2.csv\")\n",
    "df = pd.DataFrame(data)\n",
    "message = \"\\n\".join(df[df.columns[1]].to_list())"
   ]
  },
  {
   "cell_type": "code",
   "execution_count": null,
   "metadata": {},
   "outputs": [],
   "source": [
    "# Obtain SA Prediction\n",
    "def get_SA_prediction(df, model, filename):\n",
    "    texts = df[df.columns[1]].to_list()\n",
    "\n",
    "    new_df = pd.DataFrame(columns=[\"Label\", \"Score\"])\n",
    "\n",
    "    for index in range(len(texts)):\n",
    "        preds = model(texts[index])\n",
    "        print(preds)\n",
    "        pred_sentiment = preds[0][\"label\"]\n",
    "        pred_score = preds[0][\"score\"]\n",
    "\n",
    "        # write data into df\n",
    "        new_df.at[index, \"Label\"] = pred_sentiment\n",
    "        new_df.at[index, \"Score\"] = pred_score\n",
    "\n",
    "    new_df.to_csv(\"data/{}\".format(filename), index=False)\n",
    "    results = new_df\n",
    "    return results\n",
    "\n",
    "model = \"siebert/sentiment-roberta-large-english\"\n",
    "nlp = pipeline(\"sentiment-analysis\", model=model, tokenizer=model)\n",
    "results = get_prediction(df, nlp, \"predict.csv\")"
   ]
  },
  {
   "cell_type": "code",
   "execution_count": null,
   "metadata": {},
   "outputs": [],
   "source": [
    "# Obtain text summarization model\n",
    "\n",
    "def get_summary(text, model, filename):\n",
    "    result = summarizer(text, max_length=130, min_length=30, do_sample=False)\n",
    "    \n",
    "summarizer = pipeline(\"summarization\", model=\"facebook/bart-large-cnn\")"
   ]
  },
  {
   "cell_type": "code",
   "execution_count": 57,
   "metadata": {},
   "outputs": [
    {
     "name": "stdout",
     "output_type": "stream",
     "text": [
      "PARIS: Scientists said Saturday (Sep 10) they had identified the mechanism through which air pollution triggers lung cancer in non-smokers, a discovery one expert hailed as \"an important step for science - and for society\".\n",
      "The research illustrated the health risk posed by the tiny particles produced by burning fossil fuels, sparking fresh calls for more urgent action to combat climate change.\n",
      "It could also pave the way for a new field of cancer prevention, according to Charles Swanton of the UK's Francis Crick Institute.\n",
      "Swanton presented the research, which has not yet been published in a peer-reviewed journal, at the European Society for Medical Oncology's annual conference in Paris.\n",
      "Air pollution has long been thought to be linked to a higher risk of lung cancer in people who have never smoked.\n",
      "\"But we didn't really know whether pollution was directly causing lung cancer - or how,\" Swanton told AFP.\n",
      "Traditionally it has been thought that exposure to carcinogens, such as those in cigarette smoke or pollution, causes DNA mutations that then become cancer.\n",
      "But there was an \"inconvenient truth\" with this model, Swanton said: Previous research has shown that the DNA mutations can be present without causing cancer - and that most environmental carcinogens do not cause the mutations.\n",
      "His study proposes a different model.The research team from the Francis Crick Institute and University College London analysed the health data of more than 460,000 people in England, South Korea and Taiwan.\n",
      "They found that exposure to tiny PM2.5 pollution particles - which are less than 2.5 microns across - led to an increased risk of mutations in the EGFR gene.\n",
      "In laboratory studies on mice, the team showed that the particles caused changes in the EGFR gene as well as in the KRAS gene, both of which have been linked to lung cancer.\n",
      "Finally, they analysed nearly 250 samples of human lung tissue never exposed to carcinogens from smoking or heavy pollution.\n",
      "Even though the lungs were healthy, they found DNA mutations in 18 per cent of EGFR genes and 33 per cent of KRAS genes.\n",
      "\"They're just sitting there,\" Swanton said, adding that the mutations seem to increase with age.\n",
      "\"On their own, they probably are insufficient to drive cancer,\" he said.\n",
      "But when a cell is exposed to pollution it can trigger a \"wound-healing response\" that causes inflammation, Swanton said.\n",
      "And if that cell \"harbours a mutation, it will then form a cancer\", he added.\n",
      "\"We've provided a biological mechanism behind what was previously an enigma,\" he said.\n",
      "In another experiment on mice, the researchers showed that an antibody could block the mediator - called interleukin 1 beta - which sparks the inflammation, stopping cancer from getting started in the first place.\n",
      "Swanton said he hoped the finding would \"provide fruitful grounds for a future of what might be molecular cancer prevention, where we can offer people a pill, perhaps every day, to reduce the risk of cancer\".Suzette Delaloge, who heads the cancer prevention programme at France's Gustave Roussy institute, said the research was \"quite revolutionary, because we had practically no prior demonstration of this alternative way of cancer forming.\n",
      "\"The study is quite an important step for science - and for society too, I hope,\" she told AFP.\n",
      "\"This opens a huge door, both for knowledge but also for new ways to prevent\" cancer from developing, said Delaloge, who was not involved in the research but discussed it at the conference on Saturday.\n",
      "\"This level of demonstration must force authorities to act on an international scale.\"\n",
      "Tony Mok, an oncologist at the Chinese University of Hong Kong, called the research \"exciting\".\n",
      "\"It means that we can ask whether, in the future, it will be possible to use lung scans to look for pre-cancerous lesions in the lungs and try to reverse them with medicines such as interleukin 1 beta inhibitors,\" he said.\n",
      " \n",
      "Swanton called air pollution a \"hidden killer\", pointing to research estimating it is linked to the deaths of more than eight million people a year - around the same number as tobacco.\n",
      " \n",
      "Other research has linked PM2.5 to 250,000 deaths annually from lung cancer alone.\n",
      " \n",
      "\"You and I have a choice about whether we smoke or not, but we do not have a choice about the air we breathe,\" said Swanton, who is also the chief clinician at Cancer Research UK, which was the main funder of the research.\n",
      " \n",
      "\"Given that probably five times as many people are exposed to unhealthy levels of pollution than tobacco, you can see this is quite a major global problem,\" he added.\n",
      " \n",
      "\"We can only tackle it if we recognise the really intimate links between climate health and human health.\"\n"
     ]
    }
   ],
   "source": [
    "def get_prediction(texts, model):\n",
    "\n",
    "    new_df = pd.DataFrame(columns=[\"Content\",\"Label\", \"Score\"])\n",
    "\n",
    "    for index in range(len(texts)):\n",
    "        preds = model(texts[index])\n",
    "        print(preds)\n",
    "        pred_sentiment = preds[0][\"label\"]\n",
    "        pred_score = preds[0][\"score\"]\n",
    "\n",
    "        # write data into df\n",
    "        new_df.at[index, \"Label\"] = pred_sentiment\n",
    "        new_df.at[index, \"Score\"] = pred_score\n",
    "        # write text\n",
    "        new_df.at[index, \"Content\"] = \"\".join((texts[index]))\n",
    "\n",
    "    new_df.to_csv(\"data/results.csv\", index=False)\n",
    "    results = new_df\n",
    "    return results\n",
    "\n",
    "def predict(filename):\n",
    "    data = pd.read_csv('data/{}'.format(filename))\n",
    "    texts = data.values.tolist()\n",
    "    message = \"\"\n",
    "    for i in texts:\n",
    "        message += \"\".join(i)\n",
    "    print(message)\n",
    "    # results = get_prediction(texts, nlp)\n",
    "\n",
    "predict(\"news.csv\")"
   ]
  }
 ],
 "metadata": {
  "kernelspec": {
   "display_name": "Python 3.10.7 64-bit ('venv': venv)",
   "language": "python",
   "name": "python3"
  },
  "language_info": {
   "codemirror_mode": {
    "name": "ipython",
    "version": 3
   },
   "file_extension": ".py",
   "mimetype": "text/x-python",
   "name": "python",
   "nbconvert_exporter": "python",
   "pygments_lexer": "ipython3",
   "version": "3.10.7"
  },
  "orig_nbformat": 4,
  "vscode": {
   "interpreter": {
    "hash": "66f0ee19bbaf05b33d576940862416d07a1ba331cace9fd140a372edaed06c71"
   }
  }
 },
 "nbformat": 4,
 "nbformat_minor": 2
}
